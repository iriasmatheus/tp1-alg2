{
  "nbformat": 4,
  "nbformat_minor": 0,
  "metadata": {
    "colab": {
      "name": "tp1.ipynb",
      "provenance": [],
      "collapsed_sections": []
    },
    "kernelspec": {
      "name": "python3",
      "display_name": "Python 3"
    },
    "language_info": {
      "name": "python"
    }
  },
  "cells": [
    {
      "cell_type": "code",
      "metadata": {
        "id": "W332bWwKT66b"
      },
      "source": [
        "points2 = [(0,0), (1,3), (4,-2),(6.5,4),(2,4.5),(7.5,7),(1.5,7.5),(0.6,5),(-0.8,6)]\n",
        "points4 = [(3,4), \n",
        "(2,2), \n",
        "(3.5025,1.02125), \n",
        "(3.8025,2.64125), \n",
        "(4.7825,1.22125), \n",
        "(6.2225,1.20125), \n",
        "(6.5225,2.42125), \n",
        "(5.6025,3.58125), \n",
        "(5.0625,2.52125), \n",
        "(4.3425,3.48125), \n",
        "(5.3825,4.68125)]"
      ],
      "execution_count": 1,
      "outputs": []
    },
    {
      "cell_type": "code",
      "metadata": {
        "id": "I26_jKeo9dM5"
      },
      "source": [
        "def intercepta(p1, p2, p3, p4):\n",
        "  p3p4p1 = (p4[0]-p3[0])*(p1[1]-p3[1])\n",
        "  p3p4p1 = p3p4p1 - ((p4[1]-p3[1])*(p1[0]-p3[0]))\n",
        "  p3p4p2 = (p4[0]-p3[0])*(p2[1]-p3[1])\n",
        "  p3p4p2 = p3p4p2 - ((p4[1]-p3[1])*(p2[0]-p3[0]))\n",
        "  p1p2p3 = (p2[0]-p1[0])*(p3[1]-p1[1])\n",
        "  p1p2p3 = p1p2p3 - ((p2[1]-p1[1])*(p3[0]-p1[0]))\n",
        "  p1p2p4 = (p2[0]-p1[0])*(p4[1]-p1[1])\n",
        "  p1p2p4 = p1p2p4 - ((p2[1]-p1[1])*(p4[0]-p1[0]))\n",
        "  if (p3p4p1 > 0 and p3p4p2 < 0) or (p3p4p2 > 0 and p3p4p1 < 0):\n",
        "    if (p1p2p3 > 0 and p1p2p4 < 0) or (p1p2p4 > 0 and p1p2p3 < 0):\n",
        "      return True\n",
        "  return False"
      ],
      "execution_count": 2,
      "outputs": []
    },
    {
      "cell_type": "code",
      "metadata": {
        "id": "wjQyCluqX_d-"
      },
      "source": [
        "def set_orelha(i, lista):\n",
        "  tam = len(lista)\n",
        "  pre = (i-1) % tam\n",
        "  pos = (i+1) % tam\n",
        "  a1b2 = (lista[i][0]-lista[pre][0])*(lista[pos][1]-lista[pre][1])\n",
        "  a2b1 = (lista[i][1]-lista[pre][1])*(lista[pos][0]-lista[pre][0])\n",
        "  if (a1b2-a2b1>0):\n",
        "    for i in range(pos+1, tam-1):\n",
        "      if intercepta(lista[pre], lista[pos], lista[i], lista[i+1]):\n",
        "        return 0\n",
        "    return 1\n",
        "  else:\n",
        "    return 0"
      ],
      "execution_count": 3,
      "outputs": []
    },
    {
      "cell_type": "code",
      "metadata": {
        "colab": {
          "base_uri": "https://localhost:8080/"
        },
        "id": "FES-G1_C4rIs",
        "outputId": "8e41ca99-9cb6-400a-c039-ae3c0ce3334a"
      },
      "source": [
        "orelha = []\n",
        "for i in range(0, len(points2)):\n",
        "  orelha.append(set_orelha(i, points2))\n",
        "orelha"
      ],
      "execution_count": 4,
      "outputs": [
        {
          "output_type": "execute_result",
          "data": {
            "text/plain": [
              "[1, 0, 1, 1, 0, 1, 1, 0, 1]"
            ]
          },
          "metadata": {
            "tags": []
          },
          "execution_count": 4
        }
      ]
    },
    {
      "cell_type": "code",
      "metadata": {
        "id": "i7cSh0Al4rDv",
        "colab": {
          "base_uri": "https://localhost:8080/"
        },
        "outputId": "d2f7e173-1707-4c43-f7c5-d2f02d0655be"
      },
      "source": [
        "triangulos = []\n",
        "i=0\n",
        "while len(points2) > 3:\n",
        "  if orelha[i] == 1:\n",
        "    triangulos.append((points2[(i-1)%len(points2)],points2[i],points2[(i+1)%len(points2)]))\n",
        "    points2.remove(points2[i])\n",
        "    orelha.remove(orelha[i])\n",
        "    i = i % len(points2)\n",
        "    pre = (i-1) % len(points2)\n",
        "    orelha[i] = set_orelha(i, points2)\n",
        "    orelha[pre] = set_orelha(pre, points2)\n",
        "    i=0\n",
        "  else:\n",
        "    i = i+1\n",
        "triangulos.append((points2[0], points2[1], points2[2]))\n",
        "triangulos"
      ],
      "execution_count": 5,
      "outputs": [
        {
          "output_type": "execute_result",
          "data": {
            "text/plain": [
              "[((-0.8, 6), (0, 0), (1, 3)),\n",
              " ((1, 3), (4, -2), (6.5, 4)),\n",
              " ((1, 3), (6.5, 4), (2, 4.5)),\n",
              " ((2, 4.5), (7.5, 7), (1.5, 7.5)),\n",
              " ((1, 3), (2, 4.5), (1.5, 7.5)),\n",
              " ((-0.8, 6), (1, 3), (1.5, 7.5)),\n",
              " ((1.5, 7.5), (0.6, 5), (-0.8, 6))]"
            ]
          },
          "metadata": {
            "tags": []
          },
          "execution_count": 5
        }
      ]
    }
  ]
}