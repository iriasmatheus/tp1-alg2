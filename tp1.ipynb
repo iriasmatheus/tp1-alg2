{
  "nbformat": 4,
  "nbformat_minor": 0,
  "metadata": {
    "colab": {
      "name": "tp1.ipynb",
      "provenance": [],
      "collapsed_sections": []
    },
    "kernelspec": {
      "name": "python3",
      "display_name": "Python 3"
    },
    "language_info": {
      "name": "python"
    }
  },
  "cells": [
    {
      "cell_type": "code",
      "metadata": {
        "id": "W332bWwKT66b"
      },
      "source": [
        "points2 = [(0,0), (1,3), (4,-2),(6.5,4),(2,4.5),(7.5,7),(1.5,7.5),(0.6,5),(-0.8,6)]\n",
        "points4 = [(3,4), \n",
        "(2,2), \n",
        "(3.5025,1.02125), \n",
        "(3.8025,2.64125), \n",
        "(4.7825,1.22125), \n",
        "(6.2225,1.20125), \n",
        "(6.5225,2.42125), \n",
        "(5.6025,3.58125), \n",
        "(5.0625,2.52125), \n",
        "(4.3425,3.48125), \n",
        "(5.3825,4.68125)]"
      ],
      "execution_count": 9,
      "outputs": []
    },
    {
      "cell_type": "code",
      "metadata": {
        "colab": {
          "base_uri": "https://localhost:8080/"
        },
        "id": "wjQyCluqX_d-",
        "outputId": "f4744f6e-0b94-495b-9180-9aeee083d3d8"
      },
      "source": [
        "orelha = []\n",
        "tam = len(points2)\n",
        "for i in range(0, tam):\n",
        "  pre = (i-1) % tam\n",
        "  pos = (i+1) % tam\n",
        "  a1b2 = (points2[i][0]-points2[pre][0])*(points2[pos][1]-points2[pre][1])\n",
        "  a2b1 = (points2[i][1]-points2[pre][1])*(points2[pos][0]-points2[pre][0])\n",
        "  if (a1b2-a2b1>0):\n",
        "    orelha.append(1)\n",
        "  else:\n",
        "    orelha.append(0)\n",
        "orelha"
      ],
      "execution_count": 10,
      "outputs": [
        {
          "output_type": "execute_result",
          "data": {
            "text/plain": [
              "[1, 0, 1, 1, 0, 1, 1, 0, 1]"
            ]
          },
          "metadata": {
            "tags": []
          },
          "execution_count": 10
        }
      ]
    }
  ]
}