{
  "nbformat": 4,
  "nbformat_minor": 0,
  "metadata": {
    "colab": {
      "name": "tp1.ipynb",
      "provenance": [],
      "collapsed_sections": []
    },
    "kernelspec": {
      "name": "python3",
      "display_name": "Python 3"
    },
    "language_info": {
      "name": "python"
    }
  },
  "cells": [
    {
      "cell_type": "code",
      "metadata": {
        "id": "W332bWwKT66b"
      },
      "source": [
        "points2 = [(0,0), (1,3), (4,-2),(6.5,4),(2,4.5),(7.5,7),(1.5,7.5),(0.6,5),(-0.8,6)]\n",
        "points4 = [(3,4), \n",
        "(2,2), \n",
        "(3.5025,1.02125), \n",
        "(3.8025,2.64125), \n",
        "(4.7825,1.22125), \n",
        "(6.2225,1.20125), \n",
        "(6.5225,2.42125), \n",
        "(5.6025,3.58125), \n",
        "(5.0625,2.52125), \n",
        "(4.3425,3.48125), \n",
        "(5.3825,4.68125)]"
      ],
      "execution_count": 1,
      "outputs": []
    },
    {
      "cell_type": "code",
      "metadata": {
        "id": "wjQyCluqX_d-"
      },
      "source": [
        "def set_orelha(i, lista):\n",
        "  tam = len(lista)\n",
        "  pre = (i-1) % tam\n",
        "  pos = (i+1) % tam\n",
        "  a1b2 = (lista[i][0]-lista[pre][0])*(lista[pos][1]-lista[pre][1])\n",
        "  a2b1 = (lista[i][1]-lista[pre][1])*(lista[pos][0]-lista[pre][0])\n",
        "  if (a1b2-a2b1>0):\n",
        "    return 1\n",
        "  else:\n",
        "    return 0"
      ],
      "execution_count": 2,
      "outputs": []
    },
    {
      "cell_type": "code",
      "metadata": {
        "colab": {
          "base_uri": "https://localhost:8080/"
        },
        "id": "FES-G1_C4rIs",
        "outputId": "7885d94c-0e94-4564-a7ec-b316b15bfe7e"
      },
      "source": [
        "'''\n",
        "triangulos = []\n",
        "while len(points2) > 3:\n",
        "i = 0\n",
        "if orelha[i] == 1:\n",
        "  triangulos.append((points2[(i-1)%len(points2)],points2[i],points2[(i+1)%len(points2)]))\n",
        "  points2.remove(points2[i])\n",
        "  orelha.remove(orelha[i])  \n",
        "else:\n",
        "  i = i+1\n",
        "points2\n",
        "'''\n",
        "orelha = []\n",
        "for i in range(0, len(points2)):\n",
        "  orelha.append(set_orelha(i, points2))\n",
        "orelha"
      ],
      "execution_count": 3,
      "outputs": [
        {
          "output_type": "execute_result",
          "data": {
            "text/plain": [
              "[1, 0, 1, 1, 0, 1, 1, 0, 1]"
            ]
          },
          "metadata": {
            "tags": []
          },
          "execution_count": 3
        }
      ]
    },
    {
      "cell_type": "code",
      "metadata": {
        "id": "i7cSh0Al4rDv"
      },
      "source": [
        ""
      ],
      "execution_count": null,
      "outputs": []
    }
  ]
}