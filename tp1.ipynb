{
  "nbformat": 4,
  "nbformat_minor": 0,
  "metadata": {
    "colab": {
      "name": "tp1.ipynb",
      "provenance": [],
      "collapsed_sections": []
    },
    "kernelspec": {
      "name": "python3",
      "display_name": "Python 3"
    },
    "language_info": {
      "name": "python"
    }
  },
  "cells": [
    {
      "cell_type": "code",
      "metadata": {
        "id": "W332bWwKT66b"
      },
      "source": [
        "points2 = [(0,0), (1,3), (4,-2),(6.5,4),(2,4.5),(7.5,7),(1.5,7.5),(0.6,5),(-0.8,6)]\n",
        "points4 = [(3,4), \n",
        "(2,2), \n",
        "(3.5025,1.02125), \n",
        "(3.8025,2.64125), \n",
        "(4.7825,1.22125), \n",
        "(6.2225,1.20125), \n",
        "(6.5225,2.42125), \n",
        "(5.6025,3.58125), \n",
        "(5.0625,2.52125), \n",
        "(4.3425,3.48125), \n",
        "(5.3825,4.68125)]"
      ],
      "execution_count": 1,
      "outputs": []
    },
    {
      "cell_type": "code",
      "metadata": {
        "id": "I26_jKeo9dM5"
      },
      "source": [
        "def intercepta(p1, p2, p3, p4):\n",
        "  p3p4p1 = (p4[0]-p3[0])*(p1[1]-p3[1])\n",
        "  p3p4p1 = p3p4p1 - ((p4[1]-p3[1])*(p1[0]-p3[0]))\n",
        "  p3p4p2 = (p4[0]-p3[0])*(p2[1]-p3[1])\n",
        "  p3p4p2 = p3p4p2 - ((p4[1]-p3[1])*(p2[0]-p3[0]))\n",
        "  p1p2p3 = (p2[0]-p1[0])*(p3[1]-p1[1])\n",
        "  p1p2p3 = p1p2p3 - ((p2[1]-p1[1])*(p3[0]-p1[0]))\n",
        "  p1p2p4 = (p2[0]-p1[0])*(p4[1]-p1[1])\n",
        "  p1p2p4 = p1p2p4 - ((p2[1]-p1[1])*(p4[0]-p1[0]))\n",
        "  if (p3p4p1 > 0 and p3p4p2 < 0) or (p3p4p2 > 0 and p3p4p1 < 0):\n",
        "    if (p1p2p3 > 0 and p1p2p4 < 0) or (p1p2p4 > 0 and p1p2p3 < 0):\n",
        "      return True\n",
        "  return False"
      ],
      "execution_count": 2,
      "outputs": []
    },
    {
      "cell_type": "code",
      "metadata": {
        "id": "wjQyCluqX_d-"
      },
      "source": [
        "def set_orelha(i, lista):\n",
        "  tam = len(lista)\n",
        "  pre = (i-1) % tam\n",
        "  pos = (i+1) % tam\n",
        "  a1b2 = (lista[i][0]-lista[pre][0])*(lista[pos][1]-lista[pre][1])\n",
        "  a2b1 = (lista[i][1]-lista[pre][1])*(lista[pos][0]-lista[pre][0])\n",
        "  if (a1b2-a2b1>0):\n",
        "    for i in range(pos+1, tam-1):\n",
        "      if intercepta(lista[pre], lista[pos], lista[i], lista[i+1]):\n",
        "        return 0\n",
        "    return 1\n",
        "  else:\n",
        "    return 0"
      ],
      "execution_count": 3,
      "outputs": []
    },
    {
      "cell_type": "code",
      "metadata": {
        "colab": {
          "base_uri": "https://localhost:8080/"
        },
        "id": "FES-G1_C4rIs",
        "outputId": "ffa6253f-e440-4771-db52-5193397e350f"
      },
      "source": [
        "orelha = []\n",
        "for i in range(0, len(points2)):\n",
        "  orelha.append(set_orelha(i, points2))\n",
        "orelha"
      ],
      "execution_count": 4,
      "outputs": [
        {
          "output_type": "execute_result",
          "data": {
            "text/plain": [
              "[1, 0, 1, 1, 0, 1, 1, 0, 1]"
            ]
          },
          "metadata": {
            "tags": []
          },
          "execution_count": 4
        }
      ]
    },
    {
      "cell_type": "code",
      "metadata": {
        "id": "i7cSh0Al4rDv",
        "colab": {
          "base_uri": "https://localhost:8080/"
        },
        "outputId": "9294982a-409a-4cbe-e199-60a81ec0bfd3"
      },
      "source": [
        "triangulos = []\n",
        "i=1\n",
        "while len(points2) > 3:\n",
        "  if orelha[i] == 1:\n",
        "    triangulos.append((points2[(i-1)%len(points2)],points2[i],points2[(i+1)%len(points2)]))\n",
        "    points2.remove(points2[i])\n",
        "    orelha.remove(orelha[i])\n",
        "    i = i % len(points2)\n",
        "    pre = (i-1) % len(points2)\n",
        "    orelha[i] = set_orelha(i, points2)\n",
        "    orelha[pre] = set_orelha(pre, points2)\n",
        "    i=1\n",
        "  else:\n",
        "    i = i+1\n",
        "triangulos.append((points2[0], points2[1], points2[2]))\n",
        "triangulos"
      ],
      "execution_count": 5,
      "outputs": [
        {
          "output_type": "execute_result",
          "data": {
            "text/plain": [
              "[((1, 3), (4, -2), (6.5, 4)),\n",
              " ((1, 3), (6.5, 4), (2, 4.5)),\n",
              " ((2, 4.5), (7.5, 7), (1.5, 7.5)),\n",
              " ((1, 3), (2, 4.5), (1.5, 7.5)),\n",
              " ((0, 0), (1, 3), (1.5, 7.5)),\n",
              " ((0, 0), (1.5, 7.5), (0.6, 5)),\n",
              " ((0, 0), (0.6, 5), (-0.8, 6))]"
            ]
          },
          "metadata": {
            "tags": []
          },
          "execution_count": 5
        }
      ]
    },
    {
      "cell_type": "code",
      "metadata": {
        "colab": {
          "base_uri": "https://localhost:8080/"
        },
        "id": "QaSuz1GNqXW8",
        "outputId": "40452b51-3f2f-4e19-9f8d-ef1141fe1074"
      },
      "source": [
        "dual = []\n",
        "for i in range(0, len(triangulos)-1):\n",
        "  for j in range(i+1, len(triangulos)):\n",
        "    cont = 0\n",
        "    if (triangulos[i][0] == triangulos[j][0]) or (triangulos[i][0] == triangulos[j][1]) or (triangulos[i][0] == triangulos[j][2]):\n",
        "      cont = cont + 1\n",
        "    if (triangulos[i][1] == triangulos[j][0]) or (triangulos[i][1] == triangulos[j][1]) or (triangulos[i][1] == triangulos[j][2]):\n",
        "      cont = cont + 1\n",
        "    if (triangulos[i][2] == triangulos[j][0]) or (triangulos[i][2] == triangulos[j][1]) or (triangulos[i][2] == triangulos[j][2]):\n",
        "      cont = cont + 1\n",
        "    if cont == 2:\n",
        "      dual.append((i,j))\n",
        "dual"
      ],
      "execution_count": 6,
      "outputs": [
        {
          "output_type": "execute_result",
          "data": {
            "text/plain": [
              "[(0, 1), (1, 3), (2, 3), (3, 4), (4, 5), (5, 6)]"
            ]
          },
          "metadata": {
            "tags": []
          },
          "execution_count": 6
        }
      ]
    },
    {
      "cell_type": "code",
      "metadata": {
        "colab": {
          "base_uri": "https://localhost:8080/"
        },
        "id": "hoc_8jVczbEF",
        "outputId": "4a546e44-ed3d-4502-f095-58097c771e79"
      },
      "source": [
        "points2 = [(0,0), (1,3), (4,-2),(6.5,4),(2,4.5),(7.5,7),(1.5,7.5),(0.6,5),(-0.8,6)]\n",
        "cores = []\n",
        "for i in range(0, len(points2)):\n",
        "  cores.append(0)\n",
        "cores"
      ],
      "execution_count": 7,
      "outputs": [
        {
          "output_type": "execute_result",
          "data": {
            "text/plain": [
              "[0, 0, 0, 0, 0, 0, 0, 0, 0]"
            ]
          },
          "metadata": {
            "tags": []
          },
          "execution_count": 7
        }
      ]
    },
    {
      "cell_type": "code",
      "metadata": {
        "id": "bDFEEtug0o7w"
      },
      "source": [
        "for i in range(0, len(points2)):\n",
        "  if triangulos[0][0] == points2[i]:\n",
        "    cores[i] = \"branco\"\n",
        "  if triangulos[0][1] == points2[i]:\n",
        "    cores[i] = \"preto\"\n",
        "  if triangulos[0][2] == points2[i]:\n",
        "    cores[i] = \"cinza\"\n",
        "cores\n",
        "\n",
        "def set_cores(pontos, cores, lista):\n",
        "  opcoes = ['branco', 'preto', 'cinza']\n",
        "  for ponto in pontos:\n",
        "    for i in range(0, len(lista)):\n",
        "      if ponto == lista[i]:\n",
        "        if cores[i] in opcoes:\n",
        "          opcoes.remove(cores[i])\n",
        "        else:\n",
        "          sem_cor = i\n",
        "  cores[sem_cor] = opcoes[0]"
      ],
      "execution_count": 8,
      "outputs": []
    },
    {
      "cell_type": "code",
      "metadata": {
        "colab": {
          "base_uri": "https://localhost:8080/"
        },
        "id": "6ArlH2oY1fu6",
        "outputId": "47dd88af-339b-4835-b0c1-983383b2af8d"
      },
      "source": [
        "triangulos_coloridos = [0]\n",
        "while(len(triangulos_coloridos)<len(triangulos)):\n",
        "  for i in range(0, len(triangulos_coloridos)):\n",
        "    for vertice in dual:\n",
        "      if (vertice[0] == triangulos_coloridos[i]) and (vertice[1] not in triangulos_coloridos):\n",
        "        set_cores(triangulos[vertice[1]], cores, points2)\n",
        "        triangulos_coloridos.append(vertice[1])\n",
        "      if (vertice[1] == triangulos_coloridos[i]) and (vertice[0] not in triangulos_coloridos):\n",
        "        set_cores(triangulos[vertice[0]], cores, points2)\n",
        "        triangulos_coloridos.append(vertice[0])\n",
        "cores"
      ],
      "execution_count": 9,
      "outputs": [
        {
          "output_type": "execute_result",
          "data": {
            "text/plain": [
              "['preto',\n",
              " 'branco',\n",
              " 'preto',\n",
              " 'cinza',\n",
              " 'preto',\n",
              " 'branco',\n",
              " 'cinza',\n",
              " 'branco',\n",
              " 'cinza']"
            ]
          },
          "metadata": {
            "tags": []
          },
          "execution_count": 9
        }
      ]
    }
  ]
}